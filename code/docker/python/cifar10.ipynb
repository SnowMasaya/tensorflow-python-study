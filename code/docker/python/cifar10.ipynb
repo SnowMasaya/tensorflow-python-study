{
 "cells": [
  {
   "cell_type": "markdown",
   "metadata": {},
   "source": [
    "# Cifar10 Class"
   ]
  },
  {
   "cell_type": "code",
   "execution_count": null,
   "metadata": {
    "collapsed": true
   },
   "outputs": [],
   "source": [
    "# coding: UTF-8\n",
    "from __future__ import absolute_import\n",
    "from __future__ import division\n",
    "from __future__ import print_function\n",
    "\n",
    "import os \n",
    "\n",
    "import numpy as np"
   ]
  },
  {
   "cell_type": "code",
   "execution_count": 3,
   "metadata": {
    "collapsed": false
   },
   "outputs": [],
   "source": [
    "class Cifar10Record(object):\n",
    "    width = 32\n",
    "    height = 32\n",
    "    depth = 3\n",
    "    \n",
    "    def set_label(self, label_byte):\n",
    "        self.label = np.frombuffer(label_byte, dtype=np.uint8)\n",
    "        \n",
    "    def set_image(self, image_bytes):\n",
    "        byte_buffer = np.frombuffer(image_bytes, dtype=np.uint8)\n",
    "        reshaped_array = np.reshape(byte_buffer,\n",
    "                                   [self.depth, self.height, self.width])\n",
    "        self.byte_array = np.transpose(reshaped_array, [1, 2, 0])\n",
    "        self.byte_array = self.byte_array.astype(np.float32)"
   ]
  },
  {
   "cell_type": "code",
   "execution_count": 11,
   "metadata": {
    "collapsed": true
   },
   "outputs": [],
   "source": [
    "class Cifar10Reader(object):\n",
    "    def __init__(self, filename):\n",
    "        if not os.path.exists(filename):\n",
    "            print(filename + \" is not exist\")\n",
    "            return\n",
    "        \n",
    "        self.bytestream = open(filename, mode=\"rb\")\n",
    "        \n",
    "    def close(self):\n",
    "        if not self.bytestream:\n",
    "            self.bytestream.close()\n",
    "            \n",
    "    def read(self, index):\n",
    "        result = Cifar10Record()\n",
    "        \n",
    "        label_bytes = 1\n",
    "        image_bytes = result.height * result.width * result.depth\n",
    "        record_bytes = label_bytes + image_bytes\n",
    "        \n",
    "        self.bytestream.seek(record_bytes * index, 0)\n",
    "        \n",
    "        result.set_label(self.bytestream.read(label_bytes))\n",
    "        result.set_image(self.bytestream.read(image_bytes))\n",
    "        \n",
    "        return result"
   ]
  },
  {
   "cell_type": "markdown",
   "metadata": {},
   "source": [
    "# Convert CIFAR 10 Image"
   ]
  },
  {
   "cell_type": "code",
   "execution_count": 22,
   "metadata": {
    "collapsed": false
   },
   "outputs": [
    {
     "name": "stdout",
     "output_type": "stream",
     "text": [
      "label: 6\n",
      "label: 9\n",
      "label: 9\n",
      "label: 4\n",
      "label: 1\n",
      "label: 1\n",
      "label: 2\n",
      "label: 7\n",
      "label: 8\n",
      "label: 3\n",
      "label: 4\n",
      "label: 7\n",
      "label: 7\n",
      "label: 2\n",
      "label: 9\n",
      "label: 9\n"
     ]
    }
   ],
   "source": [
    "# coding: UTF-8\n",
    "from __future__ import absolute_import\n",
    "from __future__ import division\n",
    "from __future__ import print_function\n",
    "\n",
    "import os\n",
    "\n",
    "import numpy as np\n",
    "import tensorflow as tf\n",
    "from PIL import Image\n",
    "\n",
    "\n",
    "FLAGS = tf.app.flags.FLAGS\n",
    "#tf.app.flags.DEFINE_string(\"file\", \"./data/cifar-10-batches-bin/data_batch_1.bin\", \"\")\n",
    "#tf.app.flags.DEFINE_integer(\"offset\", 0, \"\")\n",
    "#tf.app.flags.DEFINE_integer(\"length\", 16, \"\")\n",
    "offset = 0\n",
    "length = 16\n",
    "\n",
    "basename = os.path.basename(\"./data/cifar-10-batches-bin/data_batch_1.bin\")\n",
    "path = os.path.dirname(\"./data/cifar-10-batches-bin/data_batch_1.bin\")\n",
    "\n",
    "reader = Cifar10Reader(\"./data/cifar-10-batches-bin/data_batch_1.bin\")\n",
    "\n",
    "stop = offset + length\n",
    "\n",
    "for index in range(offset, stop):\n",
    "    image = reader.read(index)\n",
    "    \n",
    "    print(\"label: %d\" % image.label)\n",
    "    imageshow = Image.fromarray(image.byte_array.astype(np.uint8))\n",
    "    \n",
    "    file_name = \"%s-%02d-%d.png\" % (basename, index, image.label)\n",
    "    file = os.path.join(path, file_name)\n",
    "    with open(file, mode=\"wb\") as out:\n",
    "        imageshow.save(out, format=\"png\")\n",
    "\n",
    "reader.close()"
   ]
  },
  {
   "cell_type": "code",
   "execution_count": 23,
   "metadata": {
    "collapsed": false
   },
   "outputs": [
    {
     "ename": "ImportError",
     "evalue": "No module named 'model'",
     "traceback": [
      "\u001b[0;31m---------------------------------------------------------------------------\u001b[0m",
      "\u001b[0;31mImportError\u001b[0m                               Traceback (most recent call last)",
      "\u001b[0;32m<ipython-input-23-c0ea6c639f1a>\u001b[0m in \u001b[0;36m<module>\u001b[0;34m()\u001b[0m\n\u001b[1;32m      1\u001b[0m \u001b[0;32mimport\u001b[0m \u001b[0mtensorflow\u001b[0m \u001b[0;32mas\u001b[0m \u001b[0mtf\u001b[0m\u001b[0;34m\u001b[0m\u001b[0m\n\u001b[1;32m      2\u001b[0m \u001b[0;34m\u001b[0m\u001b[0m\n\u001b[0;32m----> 3\u001b[0;31m \u001b[0;32mimport\u001b[0m \u001b[0mmodel\u001b[0m\u001b[0;34m\u001b[0m\u001b[0m\n\u001b[0m",
      "\u001b[0;31mImportError\u001b[0m: No module named 'model'"
     ],
     "output_type": "error"
    }
   ],
   "source": [
    ""
   ]
  },
  {
   "cell_type": "code",
   "execution_count": null,
   "metadata": {
    "collapsed": true
   },
   "outputs": [],
   "source": [
    ""
   ]
  }
 ],
 "metadata": {
  "kernelspec": {
   "display_name": "Python 3",
   "language": "python",
   "name": "python3"
  },
  "language_info": {
   "codemirror_mode": {
    "name": "ipython",
    "version": 3.0
   },
   "file_extension": ".py",
   "mimetype": "text/x-python",
   "name": "python",
   "nbconvert_exporter": "python",
   "pygments_lexer": "ipython3",
   "version": "3.5.2"
  }
 },
 "nbformat": 4,
 "nbformat_minor": 0
}