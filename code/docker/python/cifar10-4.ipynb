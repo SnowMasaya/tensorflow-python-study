{
 "cells": [
  {
   "cell_type": "markdown",
   "metadata": {},
   "source": [
    "# Visualize"
   ]
  },
  {
   "cell_type": "code",
   "execution_count": 2,
   "metadata": {
    "collapsed": true
   },
   "outputs": [],
   "source": [
    "from __future__ import absolute_import\n",
    "from __future__ import division\n",
    "from __future__ import print_function\n",
    "\n",
    "import os\n",
    "\n",
    "import tensorflow as tf\n",
    "from PIL import Image\n",
    "\n",
    "import numpy as np\n"
   ]
  },
  {
   "cell_type": "code",
   "execution_count": 3,
   "metadata": {
    "collapsed": true
   },
   "outputs": [],
   "source": [
    "def _color(weights_data):\n",
    "    x_min = np.amin(weights_data)\n",
    "    x_max = np.amax(weights_data)\n",
    "    weights_0_to_1 = (weights_data - x_min) / (x_max - x_min)\n",
    "    weights_0_to_255_uint8 = (weights_0_to_1 * 255).astype(np.int8)\n",
    "    image_data = np.transpose(weights_0_to_255_uint8, [3, 0, 1, 2])\n",
    "    return image_data\n",
    "\n",
    "def _make_padding(image_data):\n",
    "    list = []\n",
    "    for data in image_data:\n",
    "        data = np.pad(data, pad_width=((1, 1), (1, 1), (0, 0)),\n",
    "                      mode=\"constant\", constant_values=0)\n",
    "        list.append(data)\n",
    "    return list"
   ]
  },
  {
   "cell_type": "code",
   "execution_count": null,
   "metadata": {
    "collapsed": true
   },
   "outputs": [],
   "source": [
    "graph_file = \"\"\n",
    "\n",
    "FILTER_COUNT = 64\n",
    "\n",
    "GRID_SIZE_WIDTH = 8\n",
    "GRID_SIZE_HEIGHT =8\n",
    "\n",
    "basename = os.path.basename(graph_file)\n",
    "path = os.path.dirname(graph_file)\n",
    "\n",
    "with tf.gfile.FastGFile(graph_file, \"rb\") as f:\n",
    "    graph_def = tf.GraphDef()\n",
    "    graph_def.ParseFromString(f.read())\n",
    "    _ = tf.import_graph_def(graph_def, name=\"\")\n",
    "    \n",
    "    with tf.Session() as sess:\n",
    "        for node in sess.graph_def.node:\n",
    "            print(node.name)\n",
    "            \n",
    "    weights = sess.graph.get_tensor_by_name(\"conv_1_1/weights:0\")\n",
    "    weights_data = weights.eval()\n",
    "    \n",
    "    image_data = _color(weights_data)\n",
    "    image_data = _make_padding(image_data)\n",
    "    \n",
    "    rows = None\n",
    "    \n",
    "    for index in range(GRID_SIZE_HEIGHT):\n",
    "        start = index * GRID_SIZE_WIDTH\n",
    "        end = start + GRID_SIZE_WIDTH\n",
    "        \n",
    "        row = np.hstack(image_data[start:end])\n",
    "        if rows is None:\n",
    "            rows = row\n",
    "        else:\n",
    "            rows = np.vstack((rows, row))\n",
    "        \n",
    "    print(rows.shape)\n",
    "    \n",
    "    file_path = os.path.join(path, basename) + \".bmp\"\n",
    "    with open(file_path, mode=\"wb\") as fp:\n",
    "        Image.fromarray(rows).save(fp, format=\".bmp\")"
   ]
  }
 ],
 "metadata": {
  "kernelspec": {
   "display_name": "Python 3",
   "language": "python",
   "name": "python3"
  },
  "language_info": {
   "codemirror_mode": {
    "name": "ipython",
    "version": 3
   },
   "file_extension": ".py",
   "mimetype": "text/x-python",
   "name": "python",
   "nbconvert_exporter": "python",
   "pygments_lexer": "ipython3",
   "version": "3.5.2"
  }
 },
 "nbformat": 4,
 "nbformat_minor": 2
}
