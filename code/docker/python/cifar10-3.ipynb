{
 "cells": [
  {
   "cell_type": "markdown",
   "metadata": {},
   "source": [
    "# Train and Eval"
   ]
  },
  {
   "cell_type": "code",
   "execution_count": 1,
   "metadata": {
    "collapsed": true
   },
   "outputs": [],
   "source": [
    "# coding: UTF-8\n",
    "from __future__ import absolute_import\n",
    "from __future__ import division\n",
    "from __future__ import print_function\n",
    "\n",
    "import os\n",
    "import time\n",
    "\n",
    "import numpy as np\n",
    "import tensorflow as tf\n",
    "\n",
    "import model\n",
    "from reader import Cifar10Reader\n",
    "\n",
    "from tensorflow.python.framework import graph_util\n",
    "from tensorflow.python.platform import gfile\n"
   ]
  },
  {
   "cell_type": "code",
   "execution_count": 2,
   "metadata": {
    "collapsed": true
   },
   "outputs": [],
   "source": [
    "EPOCH = 30\n",
    "LEARNIONG_RATE = 0.001\n",
    "data_dir = \"./data/cifar-10-batches-bin/\"\n",
    "check_point_dir = \"./check_point_dir/\"\n",
    "test_data = \"./data/cifar-10-batches-bin/test_batch.bin\"\n",
    "graph_dir = \"./graph_dir/\""
   ]
  },
  {
   "cell_type": "code",
   "execution_count": 3,
   "metadata": {
    "collapsed": true
   },
   "outputs": [],
   "source": [
    "def _loss(logits, label):\n",
    "    labels = tf.cast(label, tf.int64)\n",
    "    cross_entropy = tf.nn.sparse_softmax_cross_entropy_with_logits(\n",
    "        logits, labels, name=\"cross_entropy_per_example\")\n",
    "    cross_entropy_mean = tf.reduce_mean(cross_entropy, name=\"cross_entropy\")\n",
    "    return cross_entropy_mean\n",
    "\n",
    "def _train(total_loss, global_step):\n",
    "    opt = tf.train.GradientDescentOptimizer(learning_rate=LEARNING_RATE)\n",
    "    grads = opt.compute_gradients(total_loss)\n",
    "    train_op = opt.apply_gradients(grads, global_step=global_step)\n",
    "    return train_op"
   ]
  },
  {
   "cell_type": "code",
   "execution_count": 4,
   "metadata": {
    "collapsed": true
   },
   "outputs": [],
   "source": [
    "filenames = [\n",
    "  os.path.join(data_dir, 'data_batch_%d.bin' % i) for i in range(1, 6)\n",
    "  ]"
   ]
  },
  {
   "cell_type": "code",
   "execution_count": 5,
   "metadata": {
    "collapsed": true
   },
   "outputs": [],
   "source": [
    "def _eval(sess, top_k_op, input_image, label_placeholder):\n",
    "    if not test_data:\n",
    "        return np.nan\n",
    "    \n",
    "    image_reader = Cifar10Reader(test_data)\n",
    "    true_count = 0\n",
    "    for index in range(10000):\n",
    "        image = image_reader.read(index)\n",
    "        \n",
    "        predictions = sess.run([top_k_op],\n",
    "                              feed_dict={\n",
    "                                  input_image: image.byte_array,\n",
    "                                  label_placeholder: image.label\n",
    "                              })\n",
    "        true_count += np.sum(predictions)\n",
    "    image_reader.close()\n",
    "    \n",
    "    return (true_count / 10000.0)"
   ]
  },
  {
   "cell_type": "code",
   "execution_count": null,
   "metadata": {
    "collapsed": true
   },
   "outputs": [],
   "source": [
    "def _restore(saver, sess):\n",
    "    checkpoint = tf.train.get_checkpoint_state(check_point_dir)\n",
    "    if checkpoint and checkpoint.model_checkpoint_path:\n",
    "        save.restore(sess, checkpoint.model_checkpoint_path)\n",
    "\n",
    "def _export_graph(sess, epoch):\n",
    "    constant_graph_def = graph_util.convert_variables_to_constants(\n",
    "        sess, sess.graph_def, [\"output/logits\"])\n",
    "    \n",
    "    file_path = os.path.join(graph_dir, 'graph_%02d_epoch.pb' % epoch)\n",
    "    with gfile.FastGfile(file_path, \"wb\") as f:\n",
    "        f.write(constant_graph_def.SerializeToString())"
   ]
  }
 ],
 "metadata": {
  "kernelspec": {
   "display_name": "Python 3",
   "language": "python",
   "name": "python3"
  },
  "language_info": {
   "codemirror_mode": {
    "name": "ipython",
    "version": 3
   },
   "file_extension": ".py",
   "mimetype": "text/x-python",
   "name": "python",
   "nbconvert_exporter": "python",
   "pygments_lexer": "ipython3",
   "version": "3.5.2"
  }
 },
 "nbformat": 4,
 "nbformat_minor": 2
}
