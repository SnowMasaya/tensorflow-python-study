{
 "cells": [
  {
   "cell_type": "markdown",
   "metadata": {},
   "source": [
    "# Multilayer Perceptron"
   ]
  },
  {
   "cell_type": "code",
   "execution_count": 1,
   "metadata": {
    "collapsed": true
   },
   "outputs": [],
   "source": [
    "from helper import *"
   ]
  },
  {
   "cell_type": "code",
   "execution_count": 3,
   "metadata": {
    "collapsed": false
   },
   "outputs": [
    {
     "name": "stdout",
     "output_type": "stream",
     "text": [
      "Successfully downloaded train-images-idx3-ubyte.gz 9912422 bytes.\n",
      "Extracting data/train-images-idx3-ubyte.gz\n",
      "Successfully downloaded train-labels-idx1-ubyte.gz 28881 bytes.\n",
      "Extracting data/train-labels-idx1-ubyte.gz\n",
      "Successfully downloaded t10k-images-idx3-ubyte.gz 1648877 bytes.\n",
      "Extracting data/t10k-images-idx3-ubyte.gz\n",
      "Successfully downloaded t10k-labels-idx1-ubyte.gz 4542 bytes.\n",
      "Extracting data/t10k-labels-idx1-ubyte.gz\n"
     ]
    }
   ],
   "source": [
    "IMAGE_WIDTH = 28\n",
    "IMAGE_HEIGHT = 28\n",
    "IMAGE_SIZE = IMAGE_WIDTH * IMAGE_HEIGHT\n",
    "CATEGORY_NUM = 10\n",
    "LEARNING_RATE = 0.1\n",
    "FEATURE_DIM = 100\n",
    "TRAINING_LOOP = 100\n",
    "BATCH_SIZE = 100\n",
    "SUMMARY_DIR = \"log_softmax_fc\"\n",
    "SUMMARY_INTERVAL = 100\n",
    "\n",
    "mnist = input_data.read_data_sets(\"data\", one_hot=True)"
   ]
  },
  {
   "cell_type": "code",
   "execution_count": 9,
   "metadata": {
    "collapsed": false
   },
   "outputs": [
    {
     "name": "stdout",
     "output_type": "stream",
     "text": [
      "WARNING:tensorflow:From <ipython-input-9-463fdacb81d1>:21 in <module>.: SummaryWriter.__init__ (from tensorflow.python.training.summary_io) is deprecated and will be removed after 2016-11-30.\n",
      "Instructions for updating:\n",
      "Please switch to tf.summary.FileWriter. The interface and behavior is the same; this is just a rename.\n",
      "WARNING:tensorflow:From <ipython-input-9-463fdacb81d1>:22 in <module>.: SummaryWriter.__init__ (from tensorflow.python.training.summary_io) is deprecated and will be removed after 2016-11-30.\n",
      "Instructions for updating:\n",
      "Please switch to tf.summary.FileWriter. The interface and behavior is the same; this is just a rename.\n",
      "WARNING:tensorflow:From <ipython-input-9-463fdacb81d1>:26 in <module>.: scalar_summary (from tensorflow.python.ops.logging_ops) is deprecated and will be removed after 2016-11-30.\n",
      "Instructions for updating:\n",
      "Please switch to tf.summary.scalar. Note that tf.summary.scalar uses the node name instead of the tag. This means that TensorFlow will automatically de-duplicate summary names based on the scope they are created in. Also, passing a tensor or list of tags to a scalar summary op is no longer supported.\n",
      "WARNING:tensorflow:From <ipython-input-9-463fdacb81d1>:27 in <module>.: scalar_summary (from tensorflow.python.ops.logging_ops) is deprecated and will be removed after 2016-11-30.\n",
      "Instructions for updating:\n",
      "Please switch to tf.summary.scalar. Note that tf.summary.scalar uses the node name instead of the tag. This means that TensorFlow will automatically de-duplicate summary names based on the scope they are created in. Also, passing a tensor or list of tags to a scalar summary op is no longer supported.\n",
      "WARNING:tensorflow:From <ipython-input-9-463fdacb81d1>:29 in <module>.: initialize_all_variables (from tensorflow.python.ops.variables) is deprecated and will be removed after 2017-03-02.\n",
      "Instructions for updating:\n",
      "Use `tf.global_variables_initializer` instead.\n",
      "step 0\n",
      "WARNING:tensorflow:From <ipython-input-9-463fdacb81d1>:36 in <module>.: merge_summary (from tensorflow.python.ops.logging_ops) is deprecated and will be removed after 2016-11-30.\n",
      "Instructions for updating:\n",
      "Please switch to tf.summary.merge.\n",
      "WARNING:tensorflow:From <ipython-input-9-463fdacb81d1>:38 in <module>.: merge_summary (from tensorflow.python.ops.logging_ops) is deprecated and will be removed after 2016-11-30.\n",
      "Instructions for updating:\n",
      "Please switch to tf.summary.merge.\n",
      "step 100\n",
      "WARNING:tensorflow:From <ipython-input-9-463fdacb81d1>:36 in <module>.: merge_summary (from tensorflow.python.ops.logging_ops) is deprecated and will be removed after 2016-11-30.\n",
      "Instructions for updating:\n",
      "Please switch to tf.summary.merge.\n",
      "WARNING:tensorflow:From <ipython-input-9-463fdacb81d1>:38 in <module>.: merge_summary (from tensorflow.python.ops.logging_ops) is deprecated and will be removed after 2016-11-30.\n",
      "Instructions for updating:\n",
      "Please switch to tf.summary.merge.\n"
     ]
    }
   ],
   "source": [
    "with tf.Graph().as_default():\n",
    "    with tf.name_scope(\"input\"):\n",
    "        y_ = tf.placeholder(tf.float32, [None, CATEGORY_NUM], name=\"labels\")\n",
    "        x = tf.placeholder(tf.float32, [None, IMAGE_SIZE], name=\"input_images\")\n",
    "    \n",
    "    with tf.name_scope(\"fully_connected\"):\n",
    "        W_fc = weight_variable([IMAGE_SIZE, FEATURE_DIM], name=\"weight_fc\")\n",
    "        b_fc = bias_variable([FEATURE_DIM], name=\"bias_fc\")\n",
    "        h_fc = tf.nn.relu(tf.matmul(x, W_fc) + b_fc)\n",
    "    \n",
    "    with tf.name_scope(\"readout\"):\n",
    "        W = weight_variable([FEATURE_DIM, CATEGORY_NUM], name=\"weight\")\n",
    "        b = bias_variable([CATEGORY_NUM], name=\"bias\")\n",
    "        y = tf.nn.softmax(tf.matmul(h_fc, W) + b)\n",
    "    \n",
    "    with tf.name_scope(\"optimize\"):\n",
    "        cross_entropy = tf.reduce_mean(-tf.reduce_sum(y_ * tf.log(y), reduction_indices=[1]))\n",
    "        train_step = tf.train.GradientDescentOptimizer(LEARNING_RATE).minimize(cross_entropy)\n",
    "    \n",
    "    with tf.Session() as sess:\n",
    "        train_writer = tf.train.SummaryWriter(SUMMARY_DIR + \"/train\", sess.graph)\n",
    "        test_writer = tf.train.SummaryWriter(SUMMARY_DIR + \"/test\", sess.graph)\n",
    "        \n",
    "        correct_prediction = tf.equal(tf.argmax(y, 1), tf.argmax(y_, 1))\n",
    "        accuracy = tf.reduce_mean(tf.cast(correct_prediction, tf.float32))\n",
    "        train_accuracy_summary = tf.scalar_summary(\"accuracy\", accuracy)\n",
    "        test_accuracy_summary = tf.scalar_summary(\"accuracy\", accuracy)\n",
    "        \n",
    "        sess.run(tf.initialize_all_variables())\n",
    "        for i in range(TRAINING_LOOP + 1):\n",
    "            batch = mnist.train.next_batch(BATCH_SIZE)\n",
    "            sess.run(train_step, {x: batch[0], y_: batch[1]})\n",
    "            \n",
    "            if i % SUMMARY_INTERVAL == 0:\n",
    "                print(\"step %d\" % i)\n",
    "                summary = sess.run(tf.merge_summary([train_accuracy_summary]), {x: batch[0], y_:batch[1]})\n",
    "                train_writer.add_summary(summary, i)\n",
    "                summary = sess.run(tf.merge_summary([test_accuracy_summary]), {x: mnist.test.images, y_:mnist.test.labels})\n",
    "                test_writer.add_summary(summary, i)"
   ]
  },
  {
   "cell_type": "code",
   "execution_count": null,
   "metadata": {
    "collapsed": true
   },
   "outputs": [],
   "source": [
    ""
   ]
  }
 ],
 "metadata": {
  "kernelspec": {
   "display_name": "Python 3",
   "language": "python",
   "name": "python3"
  },
  "language_info": {
   "codemirror_mode": {
    "name": "ipython",
    "version": 3.0
   },
   "file_extension": ".py",
   "mimetype": "text/x-python",
   "name": "python",
   "nbconvert_exporter": "python",
   "pygments_lexer": "ipython3",
   "version": "3.4.3"
  }
 },
 "nbformat": 4,
 "nbformat_minor": 0
}