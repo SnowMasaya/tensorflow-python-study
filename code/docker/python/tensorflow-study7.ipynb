{
 "cells": [
  {
   "cell_type": "code",
   "execution_count": 1,
   "metadata": {
    "collapsed": false
   },
   "outputs": [],
   "source": [
    "from helper import *\n",
    "\n",
    "IMG_DIR = './data/'\n",
    "MODEL_PATH = './data/pretrainmodel/classify_image_graph_def.pb'\n",
    "IMG_NUM = 1408\n",
    "QUERY_IMG = 1\n",
    "CANDIDATES = 5\n",
    "\n",
    "#with tf.device(\"/gpu:0\"):\n",
    "with tf.gfile.FastGFile(MODEL_PATH, \"rb\") as f:\n",
    "    graph_def = tf.GraphDef()\n",
    "    graph_def.ParseFromString(f.read())\n",
    "    _ = tf.import_graph_def(graph_def, name=\"\")\n",
    "    \n",
    "#sess = tf.Session(config=tf.ConfigProto(log_device_placement=True))\n",
    "sess = tf.Session()\n",
    "pool3 = sess.graph.get_tensor_by_name(\"pool_3:0\")\n",
    "features = []\n",
    "\n",
    "image_data = tf.gfile.FastGFile(\"%s/Cat9V9A8958_TP_V1.jpg\" % IMG_DIR).read()\n",
    "pool3_features = sess.run(pool3, {\"DecodeJpeg/contents:0\": image_data})"
   ]
  },
  {
   "cell_type": "code",
   "execution_count": 2,
   "metadata": {
    "collapsed": false
   },
   "outputs": [
    {
     "name": "stdout",
     "output_type": "stream",
     "text": [
      "[array([ 0.6026749 ,  0.24637549,  0.3211509 , ...,  0.05787346,\n",
      "        0.34117675,  0.26743269], dtype=float32)]\n"
     ]
    }
   ],
   "source": [
    "features.append(np.squeeze(pool3_features))\n",
    "print(features)"
   ]
  },
  {
   "cell_type": "code",
   "execution_count": null,
   "metadata": {
    "collapsed": true
   },
   "outputs": [],
   "source": [
    ""
   ]
  }
 ],
 "metadata": {
  "kernelspec": {
   "display_name": "Python 3",
   "language": "python",
   "name": "python3"
  },
  "language_info": {
   "codemirror_mode": {
    "name": "ipython",
    "version": 3.0
   },
   "file_extension": ".py",
   "mimetype": "text/x-python",
   "name": "python",
   "nbconvert_exporter": "python",
   "pygments_lexer": "ipython3",
   "version": "3.5.2"
  }
 },
 "nbformat": 4,
 "nbformat_minor": 0
}